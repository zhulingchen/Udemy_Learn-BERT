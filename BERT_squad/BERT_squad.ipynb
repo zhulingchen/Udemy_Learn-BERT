{
 "cells": [
  {
   "cell_type": "markdown",
   "metadata": {
    "colab_type": "text",
    "id": "aAUq7duyG5J0"
   },
   "source": [
    "# Stage 1: Importing dependencies"
   ]
  },
  {
   "cell_type": "code",
   "execution_count": 1,
   "metadata": {
    "colab": {},
    "colab_type": "code",
    "id": "Fv38eJzSH00S"
   },
   "outputs": [
    {
     "name": "stdout",
     "output_type": "stream",
     "text": [
      "TensorFlow Version: 2.2.0\n",
      "TensorFlow Hub Version: 0.8.0\n",
      "Query free memories from all GPUs: nvidia-smi --query-gpu=memory.free --format=csv,noheader,nounits\n",
      "Free memory list (MB): [11018, 11176, 11176, 11159]\n",
      "Query names of processes running on the GPU index 0: nvidia-smi --query-compute-apps=process_name --format=csv,noheader,nounits --id=0\n",
      "Names of processes running on the GPU index 0: []\n",
      "Query names of processes running on the GPU index 1: nvidia-smi --query-compute-apps=process_name --format=csv,noheader,nounits --id=1\n",
      "Names of processes running on the GPU index 1: []\n",
      "Query names of processes running on the GPU index 2: nvidia-smi --query-compute-apps=process_name --format=csv,noheader,nounits --id=2\n",
      "Names of processes running on the GPU index 2: []\n",
      "Query names of processes running on the GPU index 3: nvidia-smi --query-compute-apps=process_name --format=csv,noheader,nounits --id=3\n",
      "Names of processes running on the GPU index 3: []\n",
      "Left next 1 GPU(s) unmasked: [1] (from [1 2 3 0] available)\n"
     ]
    }
   ],
   "source": [
    "import numpy as np\n",
    "import math\n",
    "import random\n",
    "import time\n",
    "import json\n",
    "import collections\n",
    "import os\n",
    "\n",
    "import tensorflow as tf\n",
    "import tensorflow_hub as hub\n",
    "print(\"TensorFlow Version:\", tf.__version__)\n",
    "print(\"TensorFlow Hub Version:\", hub.__version__)\n",
    "\n",
    "from official.nlp.bert.tokenization import FullTokenizer\n",
    "from official.nlp.bert.input_pipeline import create_squad_dataset\n",
    "from official.nlp.data.squad_lib import generate_tf_record_from_json_file\n",
    "from official.nlp import optimization\n",
    "from official.nlp.data.squad_lib import read_squad_examples\n",
    "from official.nlp.data.squad_lib import FeatureWriter\n",
    "from official.nlp.data.squad_lib import convert_examples_to_features\n",
    "from official.nlp.data.squad_lib import write_predictions\n",
    "\n",
    "from utility import mask_busy_gpus\n",
    "mask_busy_gpus(1)  # randomly select 1 unused GPU"
   ]
  },
  {
   "cell_type": "markdown",
   "metadata": {
    "colab_type": "text",
    "id": "iSGw1I_zHAb5"
   },
   "source": [
    "# Stage 2: Data preprocessing"
   ]
  },
  {
   "cell_type": "code",
   "execution_count": 2,
   "metadata": {
    "colab": {},
    "colab_type": "code",
    "id": "E_PcOeemKcYq"
   },
   "outputs": [],
   "source": [
    "input_meta_data = generate_tf_record_from_json_file(\"./data/train-v1.1.json\",\n",
    "                                                    \"./data/vocab.txt\",\n",
    "                                                    \"./data/train-v1.1.tf_record\")"
   ]
  },
  {
   "cell_type": "code",
   "execution_count": 3,
   "metadata": {
    "colab": {},
    "colab_type": "code",
    "id": "7XQGdnANLziM"
   },
   "outputs": [],
   "source": [
    "with tf.io.gfile.GFile(\"./data/train_meta_data\", \"w\") as writer:\n",
    "    writer.write(json.dumps(input_meta_data, indent=4) + \"\\n\")"
   ]
  },
  {
   "cell_type": "code",
   "execution_count": 4,
   "metadata": {
    "colab": {},
    "colab_type": "code",
    "id": "295nG2zQMYSU"
   },
   "outputs": [],
   "source": [
    "BATCH_SIZE = 4\n",
    "\n",
    "train_dataset = create_squad_dataset(\"./data/train-v1.1.tf_record\",\n",
    "                                     input_meta_data['max_seq_length'], # 384\n",
    "                                     BATCH_SIZE,\n",
    "                                     is_training=True)"
   ]
  },
  {
   "cell_type": "markdown",
   "metadata": {
    "colab_type": "text",
    "id": "F4939RJqHRUs"
   },
   "source": [
    "# Stage 3: Model building"
   ]
  },
  {
   "cell_type": "markdown",
   "metadata": {
    "colab_type": "text",
    "id": "lcQcFi8kOc6K"
   },
   "source": [
    "## Squad layer"
   ]
  },
  {
   "cell_type": "code",
   "execution_count": 5,
   "metadata": {
    "colab": {},
    "colab_type": "code",
    "id": "gjmLeQjiaOo5"
   },
   "outputs": [],
   "source": [
    "class BertSquadLayer(tf.keras.layers.Layer):\n",
    "\n",
    "    def __init__(self):\n",
    "        super(BertSquadLayer, self).__init__()\n",
    "        self.final_dense = tf.keras.layers.Dense(units=2,\n",
    "                                                 kernel_initializer=tf.keras.initializers.TruncatedNormal(stddev=0.02))\n",
    "\n",
    "    def call(self, inputs):\n",
    "        logits = self.final_dense(inputs) # (batch_size, seq_len, 2)\n",
    "\n",
    "        logits = tf.transpose(logits, [2, 0, 1]) # (2, batch_size, seq_len)\n",
    "        unstacked_logits = tf.unstack(logits, axis=0) # [(batch_size, seq_len), (batch_size, seq_len)] \n",
    "        return unstacked_logits[0], unstacked_logits[1]"
   ]
  },
  {
   "cell_type": "markdown",
   "metadata": {
    "colab_type": "text",
    "id": "aQbQFKjUOeyf"
   },
   "source": [
    "## Whole model"
   ]
  },
  {
   "cell_type": "code",
   "execution_count": 6,
   "metadata": {
    "colab": {},
    "colab_type": "code",
    "id": "KgkIFb1GMT81"
   },
   "outputs": [],
   "source": [
    "class BERTSquad(tf.keras.Model):\n",
    "    \n",
    "    def __init__(self, name=\"bert_squad\"):\n",
    "        super(BERTSquad, self).__init__(name=name)\n",
    "        \n",
    "        self.bert_layer = hub.KerasLayer(\"https://tfhub.dev/tensorflow/bert_en_uncased_L-12_H-768_A-12/1\",\n",
    "                                         trainable=True)\n",
    "        \n",
    "        self.squad_layer = BertSquadLayer()\n",
    "    \n",
    "    def apply_bert(self, inputs):\n",
    "        # _ , sequence_output = self.bert_layer([inputs[\"input_ids\"],\n",
    "        #                                        inputs[\"input_mask\"],\n",
    "        #                                        inputs[\"segment_ids\"]])\n",
    "        \n",
    "        # New names for the 3 different elements of the inputs, since an update\n",
    "        # in tf_models_officials. Doesn't change anything for any other BERT\n",
    "        # usage.\n",
    "        _ , sequence_output = self.bert_layer([inputs[\"input_word_ids\"],\n",
    "                                               inputs[\"input_mask\"],\n",
    "                                               inputs[\"input_type_ids\"]])\n",
    "        return sequence_output\n",
    "\n",
    "    def call(self, inputs):\n",
    "        seq_output = self.apply_bert(inputs)\n",
    "\n",
    "        start_logits, end_logits = self.squad_layer(seq_output)\n",
    "        \n",
    "        return start_logits, end_logits"
   ]
  },
  {
   "cell_type": "markdown",
   "metadata": {
    "colab_type": "text",
    "id": "lBmSU2RnHV_a"
   },
   "source": [
    "# Stage 4: Training"
   ]
  },
  {
   "cell_type": "markdown",
   "metadata": {
    "colab_type": "text",
    "id": "WnA3WHwRIHAZ"
   },
   "source": [
    "## Creating the AI"
   ]
  },
  {
   "cell_type": "code",
   "execution_count": 7,
   "metadata": {
    "colab": {},
    "colab_type": "code",
    "id": "JEUxomxENRoJ"
   },
   "outputs": [],
   "source": [
    "TRAIN_DATA_SIZE = 88641\n",
    "NB_BATCHES_TRAIN = 10000\n",
    "BATCH_SIZE = 4\n",
    "NB_EPOCHS = 3\n",
    "INIT_LR = 5e-5\n",
    "WARMUP_STEPS = int(NB_BATCHES_TRAIN * 0.05)"
   ]
  },
  {
   "cell_type": "code",
   "execution_count": 8,
   "metadata": {
    "colab": {},
    "colab_type": "code",
    "id": "5Pg6EKe2daFy"
   },
   "outputs": [],
   "source": [
    "train_dataset_light = train_dataset.take(NB_BATCHES_TRAIN)"
   ]
  },
  {
   "cell_type": "code",
   "execution_count": 9,
   "metadata": {
    "colab": {},
    "colab_type": "code",
    "id": "eHd5MzTdNIZq"
   },
   "outputs": [],
   "source": [
    "bert_squad = BERTSquad()"
   ]
  },
  {
   "cell_type": "code",
   "execution_count": 10,
   "metadata": {
    "colab": {},
    "colab_type": "code",
    "id": "G0cvDjBm_KXT"
   },
   "outputs": [],
   "source": [
    "optimizer = optimization.create_optimizer(init_lr=INIT_LR,\n",
    "                                          num_train_steps=NB_BATCHES_TRAIN,\n",
    "                                          num_warmup_steps=WARMUP_STEPS)"
   ]
  },
  {
   "cell_type": "code",
   "execution_count": 11,
   "metadata": {
    "colab": {},
    "colab_type": "code",
    "id": "I6kG-HpzVK7v"
   },
   "outputs": [],
   "source": [
    "def squad_loss_fn(labels, model_outputs):\n",
    "    start_positions = labels['start_positions']\n",
    "    end_positions = labels['end_positions']\n",
    "    start_logits, end_logits = model_outputs\n",
    "\n",
    "    start_loss = tf.keras.backend.sparse_categorical_crossentropy(start_positions,\n",
    "                                                                  start_logits,\n",
    "                                                                  from_logits=True)\n",
    "    end_loss = tf.keras.backend.sparse_categorical_crossentropy(end_positions,\n",
    "                                                                end_logits,\n",
    "                                                                from_logits=True)\n",
    "    \n",
    "    total_loss = (tf.reduce_mean(start_loss) + tf.reduce_mean(end_loss)) / 2\n",
    "\n",
    "    return total_loss\n",
    "\n",
    "train_loss = tf.keras.metrics.Mean(name=\"train_loss\")"
   ]
  },
  {
   "cell_type": "code",
   "execution_count": 12,
   "metadata": {
    "colab": {
     "base_uri": "https://localhost:8080/",
     "height": 306
    },
    "colab_type": "code",
    "id": "HN_C_WA5R_Cb",
    "outputId": "284fc4ce-2ce2-4b13-b6b7-350614310565"
   },
   "outputs": [
    {
     "data": {
      "text/plain": [
       "({'input_word_ids': <tf.Tensor: shape=(4, 384), dtype=int32, numpy=\n",
       "  array([[ 101, 2054, 2001, ...,    0,    0,    0],\n",
       "         [ 101, 2054, 2194, ...,    0,    0,    0],\n",
       "         [ 101, 2054, 2001, ...,    0,    0,    0],\n",
       "         [ 101, 2054, 2003, ...,    0,    0,    0]], dtype=int32)>,\n",
       "  'input_mask': <tf.Tensor: shape=(4, 384), dtype=int32, numpy=\n",
       "  array([[1, 1, 1, ..., 0, 0, 0],\n",
       "         [1, 1, 1, ..., 0, 0, 0],\n",
       "         [1, 1, 1, ..., 0, 0, 0],\n",
       "         [1, 1, 1, ..., 0, 0, 0]], dtype=int32)>,\n",
       "  'input_type_ids': <tf.Tensor: shape=(4, 384), dtype=int32, numpy=\n",
       "  array([[0, 0, 0, ..., 0, 0, 0],\n",
       "         [0, 0, 0, ..., 0, 0, 0],\n",
       "         [0, 0, 0, ..., 0, 0, 0],\n",
       "         [0, 0, 0, ..., 0, 0, 0]], dtype=int32)>},\n",
       " {'end_positions': <tf.Tensor: shape=(4,), dtype=int32, numpy=array([ 27,  86, 146,  56], dtype=int32)>,\n",
       "  'start_positions': <tf.Tensor: shape=(4,), dtype=int32, numpy=array([ 25,  84, 145,  52], dtype=int32)>})"
      ]
     },
     "execution_count": 12,
     "metadata": {},
     "output_type": "execute_result"
    }
   ],
   "source": [
    "next(iter(train_dataset_light))"
   ]
  },
  {
   "cell_type": "code",
   "execution_count": 13,
   "metadata": {
    "colab": {},
    "colab_type": "code",
    "id": "V-iE2QFC_KRI"
   },
   "outputs": [],
   "source": [
    "bert_squad.compile(optimizer,\n",
    "                   squad_loss_fn)"
   ]
  },
  {
   "cell_type": "code",
   "execution_count": 14,
   "metadata": {
    "colab": {
     "base_uri": "https://localhost:8080/",
     "height": 34
    },
    "colab_type": "code",
    "id": "Hjp-_4OyTbuK",
    "outputId": "a309090f-ebfa-4736-e515-c9cb51b77c88"
   },
   "outputs": [],
   "source": [
    "checkpoint_path = \"./ckpt/\"\n",
    "\n",
    "ckpt = tf.train.Checkpoint(bert_squad=bert_squad)\n",
    "\n",
    "ckpt_manager = tf.train.CheckpointManager(ckpt, checkpoint_path, max_to_keep=1)\n",
    "\n",
    "if ckpt_manager.latest_checkpoint:\n",
    "    ckpt.restore(ckpt_manager.latest_checkpoint)\n",
    "    print(\"Latest checkpoint restored!!\")"
   ]
  },
  {
   "cell_type": "markdown",
   "metadata": {
    "colab_type": "text",
    "id": "bDgEq09xIOOl"
   },
   "source": [
    "## Custom training"
   ]
  },
  {
   "cell_type": "code",
   "execution_count": 15,
   "metadata": {
    "colab": {},
    "colab_type": "code",
    "id": "5ywelW3uaSbT"
   },
   "outputs": [
    {
     "name": "stdout",
     "output_type": "stream",
     "text": [
      "Start of epoch 1\n",
      "Epoch 1 Batch 0 Loss 5.8588\n",
      "Saving checkpoint for epoch 1 at ./ckpt/ckpt-1\n",
      "Epoch 1 Batch 1000 Loss 2.4821\n",
      "Epoch 1 Batch 2000 Loss 1.9072\n",
      "Epoch 1 Batch 3000 Loss 1.6979\n",
      "Epoch 1 Batch 4000 Loss 1.5495\n",
      "Epoch 1 Batch 5000 Loss 1.4484\n",
      "Saving checkpoint for epoch 1 at ./ckpt/ckpt-2\n",
      "Epoch 1 Batch 6000 Loss 1.3560\n",
      "Epoch 1 Batch 7000 Loss 1.2987\n",
      "Epoch 1 Batch 8000 Loss 1.2558\n",
      "Epoch 1 Batch 9000 Loss 1.2200\n",
      "Time taken for 1 epoch: 2725.575639486313 secs\n",
      "\n",
      "Start of epoch 2\n",
      "Epoch 2 Batch 0 Loss 1.7232\n",
      "Saving checkpoint for epoch 2 at ./ckpt/ckpt-3\n",
      "Epoch 2 Batch 1000 Loss 0.8722\n",
      "Epoch 2 Batch 2000 Loss 0.7637\n",
      "Epoch 2 Batch 3000 Loss 0.6920\n",
      "Epoch 2 Batch 4000 Loss 0.6344\n",
      "Epoch 2 Batch 5000 Loss 0.5930\n",
      "Saving checkpoint for epoch 2 at ./ckpt/ckpt-4\n",
      "Epoch 2 Batch 6000 Loss 0.5532\n",
      "Epoch 2 Batch 7000 Loss 0.5293\n",
      "Epoch 2 Batch 8000 Loss 0.5125\n",
      "Epoch 2 Batch 9000 Loss 0.5102\n",
      "Time taken for 1 epoch: 2722.095143556595 secs\n",
      "\n",
      "Start of epoch 3\n",
      "Epoch 3 Batch 0 Loss 1.3618\n",
      "Saving checkpoint for epoch 3 at ./ckpt/ckpt-5\n",
      "Epoch 3 Batch 1000 Loss 0.8737\n",
      "Epoch 3 Batch 2000 Loss 0.7619\n",
      "Epoch 3 Batch 3000 Loss 0.6914\n",
      "Epoch 3 Batch 4000 Loss 0.6355\n",
      "Epoch 3 Batch 5000 Loss 0.5924\n",
      "Saving checkpoint for epoch 3 at ./ckpt/ckpt-6\n",
      "Epoch 3 Batch 6000 Loss 0.5530\n",
      "Epoch 3 Batch 7000 Loss 0.5295\n",
      "Epoch 3 Batch 8000 Loss 0.5125\n",
      "Epoch 3 Batch 9000 Loss 0.5105\n",
      "Time taken for 1 epoch: 2720.8916976451874 secs\n",
      "\n"
     ]
    }
   ],
   "source": [
    "for epoch in range(NB_EPOCHS):\n",
    "    print(\"Start of epoch {}\".format(epoch+1))\n",
    "    start = time.time()\n",
    "    \n",
    "    train_loss.reset_states()\n",
    "    \n",
    "    for (batch, (inputs, targets)) in enumerate(train_dataset_light):\n",
    "        with tf.GradientTape() as tape:\n",
    "            model_outputs = bert_squad(inputs)\n",
    "            loss = squad_loss_fn(targets, model_outputs)\n",
    "        \n",
    "        gradients = tape.gradient(loss, bert_squad.trainable_variables)\n",
    "        optimizer.apply_gradients(zip(gradients, bert_squad.trainable_variables))\n",
    "        \n",
    "        train_loss(loss)\n",
    "        \n",
    "        if batch % 1000 == 0:\n",
    "            print(\"Epoch {} Batch {} Loss {:.4f}\".format(\n",
    "                epoch+1, batch, train_loss.result()))\n",
    "        \n",
    "        if batch % 5000 == 0:\n",
    "            ckpt_save_path = ckpt_manager.save()\n",
    "            print(\"Saving checkpoint for epoch {} at {}\".format(epoch+1,\n",
    "                                                                ckpt_save_path))\n",
    "    print(\"Time taken for 1 epoch: {} secs\\n\".format(time.time() - start))"
   ]
  },
  {
   "cell_type": "code",
   "execution_count": 16,
   "metadata": {},
   "outputs": [
    {
     "name": "stdout",
     "output_type": "stream",
     "text": [
      "Model: \"bert_squad\"\n",
      "_________________________________________________________________\n",
      "Layer (type)                 Output Shape              Param #   \n",
      "=================================================================\n",
      "keras_layer (KerasLayer)     multiple                  109482241 \n",
      "_________________________________________________________________\n",
      "bert_squad_layer (BertSquadL multiple                  1538      \n",
      "=================================================================\n",
      "Total params: 109,483,779\n",
      "Trainable params: 109,483,778\n",
      "Non-trainable params: 1\n",
      "_________________________________________________________________\n"
     ]
    }
   ],
   "source": [
    "bert_squad.summary()"
   ]
  },
  {
   "cell_type": "markdown",
   "metadata": {
    "colab_type": "text",
    "id": "v6WquTCiIR7t"
   },
   "source": [
    "# Stage 5: Evaluation"
   ]
  },
  {
   "cell_type": "markdown",
   "metadata": {
    "colab_type": "text",
    "id": "qDIlHd5Tos6C"
   },
   "source": [
    "## Prepare evaluation"
   ]
  },
  {
   "cell_type": "markdown",
   "metadata": {
    "colab_type": "text",
    "id": "kU7_AyTIpTTJ"
   },
   "source": [
    "Get the dev set in the session"
   ]
  },
  {
   "cell_type": "code",
   "execution_count": 17,
   "metadata": {
    "colab": {},
    "colab_type": "code",
    "id": "VGKl84s5WrhD"
   },
   "outputs": [],
   "source": [
    "eval_examples = read_squad_examples(\"./data/dev-v1.1.json\",\n",
    "                                    is_training=False,\n",
    "                                    version_2_with_negative=False)"
   ]
  },
  {
   "cell_type": "markdown",
   "metadata": {
    "colab_type": "text",
    "id": "DAEUcZDSpYLD"
   },
   "source": [
    "Define the function that will write the tf_record file for the dev set"
   ]
  },
  {
   "cell_type": "code",
   "execution_count": 18,
   "metadata": {
    "colab": {},
    "colab_type": "code",
    "id": "yCVmIgnEo83o"
   },
   "outputs": [],
   "source": [
    "eval_writer = FeatureWriter(filename=\"./data/eval.tf_record\",\n",
    "                            is_training=False)"
   ]
  },
  {
   "cell_type": "markdown",
   "metadata": {
    "colab_type": "text",
    "id": "C8aSLFdmp71I"
   },
   "source": [
    "Create a tokenizer for future information needs"
   ]
  },
  {
   "cell_type": "code",
   "execution_count": 19,
   "metadata": {
    "colab": {},
    "colab_type": "code",
    "id": "oH5exQ7KwnuH"
   },
   "outputs": [],
   "source": [
    "my_bert_layer = hub.KerasLayer(\"https://tfhub.dev/tensorflow/bert_en_uncased_L-12_H-768_A-12/1\",\n",
    "                               trainable=False)\n",
    "vocab_file = my_bert_layer.resolved_object.vocab_file.asset_path.numpy()\n",
    "do_lower_case = my_bert_layer.resolved_object.do_lower_case.numpy()\n",
    "tokenizer = FullTokenizer(vocab_file, do_lower_case)"
   ]
  },
  {
   "cell_type": "markdown",
   "metadata": {
    "colab_type": "text",
    "id": "vdHudjJ_qAzo"
   },
   "source": [
    "Define the function that add the features (feature is a protocol in tensorflow) to our eval_features list"
   ]
  },
  {
   "cell_type": "code",
   "execution_count": 20,
   "metadata": {
    "colab": {},
    "colab_type": "code",
    "id": "bmQ5GtoTxRjU"
   },
   "outputs": [],
   "source": [
    "def _append_feature(feature, is_padding):\n",
    "    if not is_padding:\n",
    "        eval_features.append(feature)\n",
    "    eval_writer.process_feature(feature)"
   ]
  },
  {
   "cell_type": "markdown",
   "metadata": {
    "colab_type": "text",
    "id": "HLAcwCiaqHi_"
   },
   "source": [
    "Create the eval features and the writes the tf.record file"
   ]
  },
  {
   "cell_type": "code",
   "execution_count": 21,
   "metadata": {
    "colab": {},
    "colab_type": "code",
    "id": "mz7kGYmUwGQb"
   },
   "outputs": [],
   "source": [
    "eval_features = []\n",
    "dataset_size = convert_examples_to_features(examples=eval_examples,\n",
    "                                            tokenizer=tokenizer,\n",
    "                                            max_seq_length=384,\n",
    "                                            doc_stride=128,\n",
    "                                            max_query_length=64,\n",
    "                                            is_training=False,\n",
    "                                            output_fn=_append_feature,\n",
    "                                            batch_size=4)"
   ]
  },
  {
   "cell_type": "code",
   "execution_count": 22,
   "metadata": {
    "colab": {},
    "colab_type": "code",
    "id": "WpZfwPEwMabx"
   },
   "outputs": [],
   "source": [
    "eval_writer.close()"
   ]
  },
  {
   "cell_type": "markdown",
   "metadata": {
    "colab_type": "text",
    "id": "TbKhx3zuq844"
   },
   "source": [
    "Load the ready-to-be-used dataset to our session"
   ]
  },
  {
   "cell_type": "code",
   "execution_count": 23,
   "metadata": {
    "colab": {},
    "colab_type": "code",
    "id": "eUqYvG5TxctF"
   },
   "outputs": [],
   "source": [
    "BATCH_SIZE = 4\n",
    "\n",
    "eval_dataset = create_squad_dataset(\"./data/eval.tf_record\",\n",
    "                                    384,  #input_meta_data['max_seq_length'],\n",
    "                                    BATCH_SIZE,\n",
    "                                    is_training=False)"
   ]
  },
  {
   "cell_type": "markdown",
   "metadata": {
    "colab_type": "text",
    "id": "tRbKrFYoo8e8"
   },
   "source": [
    "## Making the predictions"
   ]
  },
  {
   "cell_type": "markdown",
   "metadata": {
    "colab_type": "text",
    "id": "KyckEWDbrLEX"
   },
   "source": [
    "Defines a certain type of collection (like a dictionary)"
   ]
  },
  {
   "cell_type": "code",
   "execution_count": 24,
   "metadata": {
    "colab": {},
    "colab_type": "code",
    "id": "tyWOUKaDP0H0"
   },
   "outputs": [],
   "source": [
    "RawResult = collections.namedtuple(\"RawResult\",\n",
    "                                   [\"unique_id\", \"start_logits\", \"end_logits\"])"
   ]
  },
  {
   "cell_type": "markdown",
   "metadata": {
    "colab_type": "text",
    "id": "28abKVvqrRa4"
   },
   "source": [
    "Returns each element of batched output at a time"
   ]
  },
  {
   "cell_type": "code",
   "execution_count": 25,
   "metadata": {
    "colab": {},
    "colab_type": "code",
    "id": "BScaA0SZQgQW"
   },
   "outputs": [],
   "source": [
    "def get_raw_results(predictions):\n",
    "    for unique_ids, start_logits, end_logits in zip(predictions['unique_ids'],\n",
    "                                                    predictions['start_logits'],\n",
    "                                                    predictions['end_logits']):\n",
    "        yield RawResult(unique_id=unique_ids.numpy(),\n",
    "                        start_logits=start_logits.numpy().tolist(),\n",
    "                        end_logits=end_logits.numpy().tolist())"
   ]
  },
  {
   "cell_type": "markdown",
   "metadata": {
    "colab_type": "text",
    "id": "JiLOOmnLre5C"
   },
   "source": [
    "Let's make our predictions!"
   ]
  },
  {
   "cell_type": "code",
   "execution_count": 26,
   "metadata": {
    "colab": {},
    "colab_type": "code",
    "id": "qqD78Xdjrvpn"
   },
   "outputs": [
    {
     "name": "stdout",
     "output_type": "stream",
     "text": [
      "0/2709\n",
      "100/2709\n",
      "200/2709\n",
      "300/2709\n",
      "400/2709\n",
      "500/2709\n",
      "600/2709\n",
      "700/2709\n",
      "800/2709\n",
      "900/2709\n",
      "1000/2709\n",
      "1100/2709\n",
      "1200/2709\n",
      "1300/2709\n",
      "1400/2709\n",
      "1500/2709\n",
      "1600/2709\n",
      "1700/2709\n",
      "1800/2709\n",
      "1900/2709\n",
      "2000/2709\n",
      "2100/2709\n",
      "2200/2709\n",
      "2300/2709\n",
      "2400/2709\n",
      "2500/2709\n",
      "2600/2709\n",
      "2700/2709\n"
     ]
    }
   ],
   "source": [
    "all_results = []\n",
    "for count, inputs in enumerate(eval_dataset):\n",
    "    x, _ = inputs\n",
    "    unique_ids = x.pop(\"unique_ids\")\n",
    "    start_logits, end_logits = bert_squad(x, training=False)\n",
    "    output_dict = dict(\n",
    "        unique_ids=unique_ids,\n",
    "        start_logits=start_logits,\n",
    "        end_logits=end_logits)\n",
    "    for result in get_raw_results(output_dict):\n",
    "        all_results.append(result)\n",
    "    if count % 100 == 0:\n",
    "        print(\"{}/{}\".format(count, 2709))"
   ]
  },
  {
   "cell_type": "markdown",
   "metadata": {
    "colab_type": "text",
    "id": "PjQ6kIqGriHr"
   },
   "source": [
    "Write the predictions in a json file that will work with the evaluation script"
   ]
  },
  {
   "cell_type": "code",
   "execution_count": 27,
   "metadata": {
    "colab": {},
    "colab_type": "code",
    "id": "esLdRf7uM3Lz"
   },
   "outputs": [],
   "source": [
    "output_prediction_file = \"./data/predictions.json\"\n",
    "output_nbest_file = \"./data/nbest_predictions.json\"\n",
    "output_null_log_odds_file = \"./data/null_odds.json\"\n",
    "\n",
    "write_predictions(eval_examples,\n",
    "                  eval_features,\n",
    "                  all_results,\n",
    "                  20,\n",
    "                  30,\n",
    "                  True,\n",
    "                  output_prediction_file,\n",
    "                  output_nbest_file,\n",
    "                  output_null_log_odds_file,\n",
    "                  verbose=False)"
   ]
  },
  {
   "cell_type": "markdown",
   "metadata": {
    "colab_type": "text",
    "id": "-eaIHyDIYHHx"
   },
   "source": [
    "## Home-made prediction"
   ]
  },
  {
   "cell_type": "markdown",
   "metadata": {
    "colab_type": "text",
    "id": "P0F4l5h8Zdha"
   },
   "source": [
    "### Input dict creation"
   ]
  },
  {
   "cell_type": "markdown",
   "metadata": {
    "colab_type": "text",
    "id": "IrhHzx7ycXXo"
   },
   "source": [
    "We will concatenate the question and the context, separated by a `[\"SEP\"]`, after tokenization, as it has been made for the training set.\n",
    "\n",
    "The important thing is that we want our answer to start with a real word and to end with a real word. The word \"ecologically\" being tokenized as `[\"ecological\", \"##ly\"]`, if the ending token is `[\"ecological\"]` we want to use \"ecologically\" as the ending word (same thing if the ending token is `[\"##ly\"]`). That is why we first split our context into words, and then into tokens, remembering to which word each token belongs to (see the `tokenize_context()` function)."
   ]
  },
  {
   "cell_type": "markdown",
   "metadata": {
    "colab_type": "text",
    "id": "_tuNXt98Zm4u"
   },
   "source": [
    "#### Utils"
   ]
  },
  {
   "cell_type": "code",
   "execution_count": 28,
   "metadata": {
    "colab": {},
    "colab_type": "code",
    "id": "OBjGoQ_wfmml"
   },
   "outputs": [],
   "source": [
    "my_bert_layer = hub.KerasLayer(\"https://tfhub.dev/tensorflow/bert_en_uncased_L-12_H-768_A-12/1\",\n",
    "                               trainable=False)\n",
    "vocab_file = my_bert_layer.resolved_object.vocab_file.asset_path.numpy()\n",
    "do_lower_case = my_bert_layer.resolved_object.do_lower_case.numpy()\n",
    "tokenizer = FullTokenizer(vocab_file, do_lower_case)"
   ]
  },
  {
   "cell_type": "code",
   "execution_count": 29,
   "metadata": {
    "colab": {},
    "colab_type": "code",
    "id": "8f_fCe_hLC12"
   },
   "outputs": [],
   "source": [
    "def is_whitespace(c):\n",
    "    '''\n",
    "    Tell if a chain of characters corresponds to a whitespace or not.\n",
    "    '''\n",
    "    if c == \" \" or c == \"\\t\" or c == \"\\r\" or c == \"\\n\" or ord(c) == 0x202F:\n",
    "        return True\n",
    "    return False"
   ]
  },
  {
   "cell_type": "code",
   "execution_count": 30,
   "metadata": {
    "colab": {},
    "colab_type": "code",
    "id": "4ZA4TYnxLGVT"
   },
   "outputs": [],
   "source": [
    "def whitespace_split(text):\n",
    "    '''\n",
    "    Take a text and return a list of \"words\" by splitting it according to\n",
    "    whitespaces.\n",
    "    '''\n",
    "    doc_tokens = []\n",
    "    prev_is_whitespace = True\n",
    "    for c in text:\n",
    "        if is_whitespace(c):\n",
    "            prev_is_whitespace = True\n",
    "        else:\n",
    "            if prev_is_whitespace:\n",
    "                doc_tokens.append(c)\n",
    "            else:\n",
    "                doc_tokens[-1] += c\n",
    "            prev_is_whitespace = False\n",
    "    return doc_tokens"
   ]
  },
  {
   "cell_type": "code",
   "execution_count": 31,
   "metadata": {
    "colab": {},
    "colab_type": "code",
    "id": "Fsfzt3GUNWQK"
   },
   "outputs": [],
   "source": [
    "def tokenize_context(text_words):\n",
    "    '''\n",
    "    Take a list of words (returned by whitespace_split()) and tokenize each word\n",
    "    one by one. Also keep track, for each new token, of its original word in the\n",
    "    text_words parameter.\n",
    "    '''\n",
    "    text_tok = []\n",
    "    tok_to_word_id = []\n",
    "    for word_id, word in enumerate(text_words):\n",
    "        word_tok = tokenizer.tokenize(word)\n",
    "        text_tok += word_tok\n",
    "        tok_to_word_id += [word_id]*len(word_tok)\n",
    "    return text_tok, tok_to_word_id"
   ]
  },
  {
   "cell_type": "code",
   "execution_count": 32,
   "metadata": {
    "colab": {},
    "colab_type": "code",
    "id": "c8qreqEURUOP"
   },
   "outputs": [],
   "source": [
    "def get_ids(tokens):\n",
    "    return tokenizer.convert_tokens_to_ids(tokens)\n",
    "\n",
    "def get_mask(tokens):\n",
    "    return np.char.not_equal(tokens, \"[PAD]\").astype(int)\n",
    "\n",
    "def get_segments(tokens):\n",
    "    seg_ids = []\n",
    "    current_seg_id = 0\n",
    "    for tok in tokens:\n",
    "        seg_ids.append(current_seg_id)\n",
    "        if tok == \"[SEP]\":\n",
    "            current_seg_id = 1-current_seg_id # turns 1 into 0 and vice versa\n",
    "    return seg_ids"
   ]
  },
  {
   "cell_type": "code",
   "execution_count": 33,
   "metadata": {
    "colab": {},
    "colab_type": "code",
    "id": "P2sPGXxsYUsY"
   },
   "outputs": [],
   "source": [
    "def create_input_dict(question, context):\n",
    "    '''\n",
    "    Take a question and a context as strings and return a dictionary with the 3\n",
    "    elements needed for the model. Also return the context_words, the\n",
    "    context_tok to context_word ids correspondance and the length of\n",
    "    question_tok that we will need later.\n",
    "    '''\n",
    "    question_tok = tokenizer.tokenize(my_question)\n",
    "\n",
    "    context_words = whitespace_split(context)\n",
    "    context_tok, context_tok_to_word_id = tokenize_context(context_words)\n",
    "\n",
    "    input_tok = question_tok + [\"[SEP]\"] + context_tok + [\"[SEP]\"]\n",
    "    input_tok += [\"[PAD]\"]*(384-len(input_tok)) # in our case the model has been\n",
    "                                                # trained to have inputs of length max 384\n",
    "    input_dict = {}\n",
    "    input_dict[\"input_word_ids\"] = tf.expand_dims(tf.cast(get_ids(input_tok), tf.int32), 0)\n",
    "    input_dict[\"input_mask\"] = tf.expand_dims(tf.cast(get_mask(input_tok), tf.int32), 0)\n",
    "    input_dict[\"input_type_ids\"] = tf.expand_dims(tf.cast(get_segments(input_tok), tf.int32), 0)\n",
    "\n",
    "    return input_dict, context_words, context_tok_to_word_id, len(question_tok)"
   ]
  },
  {
   "cell_type": "markdown",
   "metadata": {
    "colab_type": "text",
    "id": "QAnaCZWTZpWT"
   },
   "source": [
    "#### Creation"
   ]
  },
  {
   "cell_type": "code",
   "execution_count": 34,
   "metadata": {
    "colab": {},
    "colab_type": "code",
    "id": "WQlM-M8rMklA"
   },
   "outputs": [],
   "source": [
    "my_context = '''Neoclassical economics views inequalities in the distribution of income as arising from differences in value added by labor, capital and land. Within labor income distribution is due to differences in value added by different classifications of workers. In this perspective, wages and profits are determined by the marginal value added of each economic actor (worker, capitalist/business owner, landlord). Thus, in a market economy, inequality is a reflection of the productivity gap between highly-paid professions and lower-paid professions.'''"
   ]
  },
  {
   "cell_type": "markdown",
   "metadata": {
    "colab_type": "text",
    "id": "YL_cE-o0U8mx"
   },
   "source": [
    "Neoclassical economics views inequalities in the distribution of income as arising from differences in value added by labor, capital and land. Within labor income distribution is due to differences in value added by different classifications of workers. In this perspective, wages and profits are determined by the marginal value added of each economic actor (worker, capitalist/business owner, landlord). Thus, in a market economy, inequality is a reflection of the productivity gap between highly-paid professions and lower-paid professions."
   ]
  },
  {
   "cell_type": "code",
   "execution_count": 35,
   "metadata": {
    "colab": {},
    "colab_type": "code",
    "id": "SeB29SCNNQ1M"
   },
   "outputs": [],
   "source": [
    "my_question = '''What philosophy of thought addresses wealth inequality?'''\n",
    "# my_question = '''What are examples of economic actors?'''\n",
    "# my_question = '''In a market economy, what is inequality a reflection of?'''"
   ]
  },
  {
   "cell_type": "code",
   "execution_count": 36,
   "metadata": {
    "colab": {},
    "colab_type": "code",
    "id": "-v5nLMNjZufe"
   },
   "outputs": [],
   "source": [
    "my_input_dict, my_context_words, context_tok_to_word_id, question_tok_len = create_input_dict(my_question, my_context)"
   ]
  },
  {
   "cell_type": "markdown",
   "metadata": {
    "colab_type": "text",
    "id": "dT066rMtZ65X"
   },
   "source": [
    "### Prediction"
   ]
  },
  {
   "cell_type": "code",
   "execution_count": 37,
   "metadata": {
    "colab": {},
    "colab_type": "code",
    "id": "CcJgDa9gVShl"
   },
   "outputs": [],
   "source": [
    "start_logits, end_logits = bert_squad(my_input_dict, training=False)"
   ]
  },
  {
   "cell_type": "markdown",
   "metadata": {
    "colab_type": "text",
    "id": "rhdGlIo5Z9IZ"
   },
   "source": [
    "### Interpretation"
   ]
  },
  {
   "cell_type": "markdown",
   "metadata": {
    "colab_type": "text",
    "id": "ZQJMBkVLd9wp"
   },
   "source": [
    "We remove the ids corresponding to the question and the `[\"SEP\"]` token:"
   ]
  },
  {
   "cell_type": "code",
   "execution_count": 38,
   "metadata": {
    "colab": {},
    "colab_type": "code",
    "id": "TfwBJfsSTwRn"
   },
   "outputs": [],
   "source": [
    "start_logits_context = start_logits.numpy()[0, question_tok_len+1:]\n",
    "end_logits_context = end_logits.numpy()[0, question_tok_len+1:]"
   ]
  },
  {
   "cell_type": "markdown",
   "metadata": {
    "colab_type": "text",
    "id": "te1u6iZAawYf"
   },
   "source": [
    "First easy interpretation:"
   ]
  },
  {
   "cell_type": "code",
   "execution_count": 39,
   "metadata": {
    "colab": {},
    "colab_type": "code",
    "id": "lQJ8tp-1WvI4"
   },
   "outputs": [],
   "source": [
    "start_word_id = context_tok_to_word_id[np.argmax(start_logits_context)]\n",
    "end_word_id = context_tok_to_word_id[np.argmax(end_logits_context)]"
   ]
  },
  {
   "cell_type": "markdown",
   "metadata": {
    "colab_type": "text",
    "id": "k3PHA84rarse"
   },
   "source": [
    "\"Advanced\" - making sure that the start of the answer is before the end:"
   ]
  },
  {
   "cell_type": "code",
   "execution_count": 40,
   "metadata": {
    "colab": {},
    "colab_type": "code",
    "id": "xiFZ2fUiRU_M"
   },
   "outputs": [],
   "source": [
    "pair_scores = np.ones((len(start_logits_context), len(end_logits_context)))*(-1E10)\n",
    "for i in range(len(start_logits_context-1)):\n",
    "    for j in range(i, len(end_logits_context)):\n",
    "        pair_scores[i, j] = start_logits_context[i] + end_logits_context[j]\n",
    "pair_scores_argmax = np.argmax(pair_scores)"
   ]
  },
  {
   "cell_type": "code",
   "execution_count": 41,
   "metadata": {
    "colab": {},
    "colab_type": "code",
    "id": "N9KEiFHPXXeM"
   },
   "outputs": [],
   "source": [
    "start_word_id = context_tok_to_word_id[pair_scores_argmax // len(start_logits_context)]\n",
    "end_word_id = context_tok_to_word_id[pair_scores_argmax % len(end_logits_context)]"
   ]
  },
  {
   "cell_type": "markdown",
   "metadata": {
    "colab_type": "text",
    "id": "kJDBL8KKa6NP"
   },
   "source": [
    "Final answer:"
   ]
  },
  {
   "cell_type": "code",
   "execution_count": 42,
   "metadata": {
    "colab": {
     "base_uri": "https://localhost:8080/",
     "height": 85
    },
    "colab_type": "code",
    "id": "j0Y3WDz0XwAw",
    "outputId": "6574d1bc-2c36-4dc2-d5d1-04ba08c86d1d"
   },
   "outputs": [
    {
     "name": "stdout",
     "output_type": "stream",
     "text": [
      "The answer to:\n",
      "What philosophy of thought addresses wealth inequality?\n",
      "is:\n",
      "Neoclassical economics\n"
     ]
    }
   ],
   "source": [
    "predicted_answer = ' '.join(my_context_words[start_word_id:end_word_id+1])\n",
    "print(\"The answer to:\\n\" + my_question + \"\\nis:\\n\" + predicted_answer)"
   ]
  },
  {
   "cell_type": "code",
   "execution_count": 43,
   "metadata": {
    "colab": {
     "base_uri": "https://localhost:8080/",
     "height": 156
    },
    "colab_type": "code",
    "id": "bYGSk_5OSYUk",
    "outputId": "0e672b78-9838-4300-aabd-11c9408d9058"
   },
   "outputs": [
    {
     "data": {
      "text/html": [
       "<h2>WHAT PHILOSOPHY OF THOUGHT ADDRESSES WEALTH INEQUALITY?</h2>"
      ],
      "text/plain": [
       "<IPython.core.display.HTML object>"
      ]
     },
     "metadata": {},
     "output_type": "display_data"
    },
    {
     "data": {
      "text/html": [
       "<blockquote> <mark>Neoclassical economics</mark> views inequalities in the distribution of income as arising from differences in value added by labor, capital and land. Within labor income distribution is due to differences in value added by different classifications of workers. In this perspective, wages and profits are determined by the marginal value added of each economic actor (worker, capitalist/business owner, landlord). Thus, in a market economy, inequality is a reflection of the productivity gap between highly-paid professions and lower-paid professions. </blockquote>"
      ],
      "text/plain": [
       "<IPython.core.display.HTML object>"
      ]
     },
     "metadata": {},
     "output_type": "display_data"
    }
   ],
   "source": [
    "from IPython.core.display import HTML\n",
    "display(HTML(f'<h2>{my_question.upper()}</h2>'))\n",
    "marked_text = str(my_context.replace(predicted_answer, f\"<mark>{predicted_answer}</mark>\"))\n",
    "display(HTML(f\"\"\"<blockquote> {marked_text} </blockquote>\"\"\"))"
   ]
  }
 ],
 "metadata": {
  "accelerator": "TPU",
  "colab": {
   "collapsed_sections": [
    "qDIlHd5Tos6C",
    "tRbKrFYoo8e8"
   ],
   "name": "BERT_squad",
   "provenance": [],
   "toc_visible": true
  },
  "kernelspec": {
   "display_name": "Python 3",
   "language": "python",
   "name": "python3"
  },
  "language_info": {
   "codemirror_mode": {
    "name": "ipython",
    "version": 3
   },
   "file_extension": ".py",
   "mimetype": "text/x-python",
   "name": "python",
   "nbconvert_exporter": "python",
   "pygments_lexer": "ipython3",
   "version": "3.6.9"
  }
 },
 "nbformat": 4,
 "nbformat_minor": 1
}
