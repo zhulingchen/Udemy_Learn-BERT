{
  "nbformat": 4,
  "nbformat_minor": 0,
  "metadata": {
    "colab": {
      "name": "BERT_embedding",
      "provenance": [],
      "collapsed_sections": [],
      "toc_visible": true
    },
    "kernelspec": {
      "name": "python3",
      "display_name": "Python 3"
    },
    "accelerator": "GPU"
  },
  "cells": [
    {
      "cell_type": "markdown",
      "metadata": {
        "id": "1tadN4hSCP9p",
        "colab_type": "text"
      },
      "source": [
        "# Stage 1: Importing dependencies"
      ]
    },
    {
      "cell_type": "code",
      "metadata": {
        "id": "EUU4TlmoFMZ_",
        "colab_type": "code",
        "colab": {}
      },
      "source": [
        "import numpy as np\n",
        "import math\n",
        "import re\n",
        "import pandas as pd\n",
        "from bs4 import BeautifulSoup\n",
        "import random\n",
        "\n",
        "from google.colab import drive"
      ],
      "execution_count": null,
      "outputs": []
    },
    {
      "cell_type": "code",
      "metadata": {
        "id": "lXj8lk3uGn4P",
        "colab_type": "code",
        "colab": {
          "base_uri": "https://localhost:8080/",
          "height": 496
        },
        "outputId": "895351e3-37cb-4aff-8106-eff8502ca15b"
      },
      "source": [
        "!pip install bert-for-tf2\n",
        "!pip install sentencepiece"
      ],
      "execution_count": null,
      "outputs": [
        {
          "output_type": "stream",
          "text": [
            "Collecting bert-for-tf2\n",
            "\u001b[?25l  Downloading https://files.pythonhosted.org/packages/35/5c/6439134ecd17b33fe0396fb0b7d6ce3c5a120c42a4516ba0e9a2d6e43b25/bert-for-tf2-0.14.4.tar.gz (40kB)\n",
            "\r\u001b[K     |████████                        | 10kB 20.8MB/s eta 0:00:01\r\u001b[K     |████████████████▏               | 20kB 2.2MB/s eta 0:00:01\r\u001b[K     |████████████████████████▎       | 30kB 2.8MB/s eta 0:00:01\r\u001b[K     |████████████████████████████████| 40kB 2.0MB/s \n",
            "\u001b[?25hCollecting py-params>=0.9.6\n",
            "  Downloading https://files.pythonhosted.org/packages/a4/bf/c1c70d5315a8677310ea10a41cfc41c5970d9b37c31f9c90d4ab98021fd1/py-params-0.9.7.tar.gz\n",
            "Collecting params-flow>=0.8.0\n",
            "  Downloading https://files.pythonhosted.org/packages/a9/95/ff49f5ebd501f142a6f0aaf42bcfd1c192dc54909d1d9eb84ab031d46056/params-flow-0.8.2.tar.gz\n",
            "Requirement already satisfied: numpy in /usr/local/lib/python3.6/dist-packages (from params-flow>=0.8.0->bert-for-tf2) (1.18.4)\n",
            "Requirement already satisfied: tqdm in /usr/local/lib/python3.6/dist-packages (from params-flow>=0.8.0->bert-for-tf2) (4.41.1)\n",
            "Building wheels for collected packages: bert-for-tf2, py-params, params-flow\n",
            "  Building wheel for bert-for-tf2 (setup.py) ... \u001b[?25l\u001b[?25hdone\n",
            "  Created wheel for bert-for-tf2: filename=bert_for_tf2-0.14.4-cp36-none-any.whl size=30114 sha256=4b18566a2a956019b6f9413e35b1a06670c7c5e493991f54a3e86439c395d5f4\n",
            "  Stored in directory: /root/.cache/pip/wheels/cf/3f/4d/79d7735015a5f523648df90d871ce8e89a7df8185f7703eeab\n",
            "  Building wheel for py-params (setup.py) ... \u001b[?25l\u001b[?25hdone\n",
            "  Created wheel for py-params: filename=py_params-0.9.7-cp36-none-any.whl size=7302 sha256=7b03353786b301b263e281cb1796939d669aa902a6017a6730a54d72e36a82ad\n",
            "  Stored in directory: /root/.cache/pip/wheels/67/f5/19/b461849a50aefdf4bab47c4756596e82ee2118b8278e5a1980\n",
            "  Building wheel for params-flow (setup.py) ... \u001b[?25l\u001b[?25hdone\n",
            "  Created wheel for params-flow: filename=params_flow-0.8.2-cp36-none-any.whl size=19473 sha256=94c7ae47df995df7cf4c3f167a27583c205d958957e7ad72144e482393f7cc9d\n",
            "  Stored in directory: /root/.cache/pip/wheels/08/c8/7f/81c86b9ff2b86e2c477e3914175be03e679e596067dc630c06\n",
            "Successfully built bert-for-tf2 py-params params-flow\n",
            "Installing collected packages: py-params, params-flow, bert-for-tf2\n",
            "Successfully installed bert-for-tf2-0.14.4 params-flow-0.8.2 py-params-0.9.7\n",
            "Collecting sentencepiece\n",
            "\u001b[?25l  Downloading https://files.pythonhosted.org/packages/d4/a4/d0a884c4300004a78cca907a6ff9a5e9fe4f090f5d95ab341c53d28cbc58/sentencepiece-0.1.91-cp36-cp36m-manylinux1_x86_64.whl (1.1MB)\n",
            "\u001b[K     |████████████████████████████████| 1.1MB 3.4MB/s \n",
            "\u001b[?25hInstalling collected packages: sentencepiece\n",
            "Successfully installed sentencepiece-0.1.91\n"
          ],
          "name": "stdout"
        }
      ]
    },
    {
      "cell_type": "code",
      "metadata": {
        "id": "fOfuPdFHFpfC",
        "colab_type": "code",
        "colab": {}
      },
      "source": [
        "try:\n",
        "    %tensorflow_version 2.x\n",
        "except Exception:\n",
        "    pass\n",
        "import tensorflow as tf\n",
        "\n",
        "import tensorflow_hub as hub\n",
        "\n",
        "from tensorflow.keras import layers\n",
        "import bert"
      ],
      "execution_count": null,
      "outputs": []
    },
    {
      "cell_type": "markdown",
      "metadata": {
        "id": "j6ZbE2lPDIFL",
        "colab_type": "text"
      },
      "source": [
        "# Stage 2: Data preprocessing"
      ]
    },
    {
      "cell_type": "markdown",
      "metadata": {
        "id": "T9S77lewDNE1",
        "colab_type": "text"
      },
      "source": [
        "## Loading files"
      ]
    },
    {
      "cell_type": "markdown",
      "metadata": {
        "id": "J7GET0xsDSDc",
        "colab_type": "text"
      },
      "source": [
        "We import files from our personal Google drive."
      ]
    },
    {
      "cell_type": "code",
      "metadata": {
        "id": "5hABc0h8GdTe",
        "colab_type": "code",
        "colab": {
          "base_uri": "https://localhost:8080/",
          "height": 122
        },
        "outputId": "0c40d06e-e432-4f54-9f88-9c7b5abb7fdf"
      },
      "source": [
        "drive.mount(\"/content/drive\")"
      ],
      "execution_count": null,
      "outputs": [
        {
          "output_type": "stream",
          "text": [
            "Go to this URL in a browser: https://accounts.google.com/o/oauth2/auth?client_id=947318989803-6bn6qk8qdgf4n4g3pfee6491hc0brc4i.apps.googleusercontent.com&redirect_uri=urn%3aietf%3awg%3aoauth%3a2.0%3aoob&response_type=code&scope=email%20https%3a%2f%2fwww.googleapis.com%2fauth%2fdocs.test%20https%3a%2f%2fwww.googleapis.com%2fauth%2fdrive%20https%3a%2f%2fwww.googleapis.com%2fauth%2fdrive.photos.readonly%20https%3a%2f%2fwww.googleapis.com%2fauth%2fpeopleapi.readonly\n",
            "\n",
            "Enter your authorization code:\n",
            "··········\n",
            "Mounted at /content/drive\n"
          ],
          "name": "stdout"
        }
      ]
    },
    {
      "cell_type": "code",
      "metadata": {
        "id": "slnILsqwGxTX",
        "colab_type": "code",
        "colab": {}
      },
      "source": [
        "cols = [\"sentiment\", \"id\", \"date\", \"query\", \"user\", \"text\"]\n",
        "data = pd.read_csv(\n",
        "    \"/content/drive/My Drive/projects/CNN_for_NLP/data/train.csv\",\n",
        "    header=None,\n",
        "    names=cols,\n",
        "    engine=\"python\",\n",
        "    encoding=\"latin1\"\n",
        ")"
      ],
      "execution_count": null,
      "outputs": []
    },
    {
      "cell_type": "code",
      "metadata": {
        "id": "REdK4z4YG9kZ",
        "colab_type": "code",
        "colab": {}
      },
      "source": [
        "data.drop([\"id\", \"date\", \"query\", \"user\"],\n",
        "          axis=1,\n",
        "          inplace=True)"
      ],
      "execution_count": null,
      "outputs": []
    },
    {
      "cell_type": "markdown",
      "metadata": {
        "id": "Lz2g61evDZb4",
        "colab_type": "text"
      },
      "source": [
        "## Preprocessing"
      ]
    },
    {
      "cell_type": "markdown",
      "metadata": {
        "id": "LCyy4babDrI8",
        "colab_type": "text"
      },
      "source": [
        "### Cleaning"
      ]
    },
    {
      "cell_type": "code",
      "metadata": {
        "id": "UEyorQS_HArn",
        "colab_type": "code",
        "colab": {}
      },
      "source": [
        "def clean_tweet(tweet):\n",
        "    tweet = BeautifulSoup(tweet, \"lxml\").get_text()\n",
        "    # Removing the @\n",
        "    tweet = re.sub(r\"@[A-Za-z0-9]+\", ' ', tweet)\n",
        "    # Removing the URL links\n",
        "    tweet = re.sub(r\"https?://[A-Za-z0-9./]+\", ' ', tweet)\n",
        "    # Keeping only letters\n",
        "    tweet = re.sub(r\"[^a-zA-Z.!?']\", ' ', tweet)\n",
        "    # Removing additional whitespaces\n",
        "    tweet = re.sub(r\" +\", ' ', tweet)\n",
        "    return tweet"
      ],
      "execution_count": null,
      "outputs": []
    },
    {
      "cell_type": "code",
      "metadata": {
        "id": "3BlbZpy0HHiV",
        "colab_type": "code",
        "colab": {}
      },
      "source": [
        "data_clean = [clean_tweet(tweet) for tweet in data.text]"
      ],
      "execution_count": null,
      "outputs": []
    },
    {
      "cell_type": "code",
      "metadata": {
        "id": "H6SOj46BHKEk",
        "colab_type": "code",
        "colab": {}
      },
      "source": [
        "data_labels = data.sentiment.values\n",
        "data_labels[data_labels == 4] = 1"
      ],
      "execution_count": null,
      "outputs": []
    },
    {
      "cell_type": "markdown",
      "metadata": {
        "id": "MJa3YWeJD1gM",
        "colab_type": "text"
      },
      "source": [
        "### Tokenization"
      ]
    },
    {
      "cell_type": "markdown",
      "metadata": {
        "id": "MUaCPqqBD7kQ",
        "colab_type": "text"
      },
      "source": [
        "We need to create a BERT layer to have access to meta data for the tokenizer (like vocab size)."
      ]
    },
    {
      "cell_type": "code",
      "metadata": {
        "id": "0wry-st-HMN0",
        "colab_type": "code",
        "colab": {}
      },
      "source": [
        "FullTokenizer = bert.bert_tokenization.FullTokenizer\n",
        "bert_layer = hub.KerasLayer(\"https://tfhub.dev/tensorflow/bert_en_uncased_L-12_H-768_A-12/1\",\n",
        "                            trainable=False)\n",
        "vocab_file = bert_layer.resolved_object.vocab_file.asset_path.numpy()\n",
        "do_lower_case = bert_layer.resolved_object.do_lower_case.numpy()\n",
        "tokenizer = FullTokenizer(vocab_file, do_lower_case)"
      ],
      "execution_count": null,
      "outputs": []
    },
    {
      "cell_type": "markdown",
      "metadata": {
        "id": "HMVarTJpELyK",
        "colab_type": "text"
      },
      "source": [
        "We only use the first sentence for BERT inputs so we add the CLS token at the beginning and the SEP token at the end of each sentence."
      ]
    },
    {
      "cell_type": "code",
      "metadata": {
        "id": "v-JkZt9NduoC",
        "colab_type": "code",
        "colab": {}
      },
      "source": [
        "def encode_sentence(sent):\n",
        "    return [\"[CLS]\"] + tokenizer.tokenize(sent) + [\"[SEP]\"]"
      ],
      "execution_count": null,
      "outputs": []
    },
    {
      "cell_type": "code",
      "metadata": {
        "id": "pel_Uk6Ic4xB",
        "colab_type": "code",
        "colab": {}
      },
      "source": [
        "data_inputs = [encode_sentence(sentence) for sentence in data_clean]"
      ],
      "execution_count": null,
      "outputs": []
    },
    {
      "cell_type": "markdown",
      "metadata": {
        "id": "z32MeEwnkCB8",
        "colab_type": "text"
      },
      "source": [
        "### Dataset creation"
      ]
    },
    {
      "cell_type": "markdown",
      "metadata": {
        "id": "cUVc83VNEcW9",
        "colab_type": "text"
      },
      "source": [
        "We need to create the 3 different inputs for each sentence."
      ]
    },
    {
      "cell_type": "code",
      "metadata": {
        "id": "wmW9JZLJaxww",
        "colab_type": "code",
        "colab": {}
      },
      "source": [
        "def get_ids(tokens):\n",
        "    return tokenizer.convert_tokens_to_ids(tokens)\n",
        "\n",
        "def get_mask(tokens):\n",
        "    return np.char.not_equal(tokens, \"[PAD]\").astype(int)\n",
        "\n",
        "def get_segments(tokens):\n",
        "    seg_ids = []\n",
        "    current_seg_id = 0\n",
        "    for tok in tokens:\n",
        "        seg_ids.append(current_seg_id)\n",
        "        if tok == \"[SEP]\":\n",
        "            current_seg_id = 1-current_seg_id # turns 1 into 0 and vice versa\n",
        "    return seg_ids"
      ],
      "execution_count": null,
      "outputs": []
    },
    {
      "cell_type": "markdown",
      "metadata": {
        "id": "x06fFPFtFqVK",
        "colab_type": "text"
      },
      "source": [
        "We will create padded batches (so we pad sentences for each batch independently), this way we add the minimum of padding tokens possible. For that, we sort sentences by length, apply padded_batches and then shuffle."
      ]
    },
    {
      "cell_type": "code",
      "metadata": {
        "id": "hjAVGCwlb6F8",
        "colab_type": "code",
        "colab": {}
      },
      "source": [
        "data_with_len = [[sent, data_labels[i], len(sent)]\n",
        "                 for i, sent in enumerate(data_inputs)]\n",
        "random.shuffle(data_with_len)\n",
        "data_with_len.sort(key=lambda x: x[2])\n",
        "sorted_all = [([get_ids(sent_lab[0]),\n",
        "                get_mask(sent_lab[0]),\n",
        "                get_segments(sent_lab[0])],\n",
        "               sent_lab[1])\n",
        "              for sent_lab in data_with_len if sent_lab[2] > 7]"
      ],
      "execution_count": null,
      "outputs": []
    },
    {
      "cell_type": "code",
      "metadata": {
        "id": "ZkMiqmzsfo6a",
        "colab_type": "code",
        "colab": {}
      },
      "source": [
        "# A list is a type of iterator so it can be used as generator for a dataset\n",
        "all_dataset = tf.data.Dataset.from_generator(lambda: sorted_all,\n",
        "                                             output_types=(tf.int32, tf.int32))"
      ],
      "execution_count": null,
      "outputs": []
    },
    {
      "cell_type": "code",
      "metadata": {
        "id": "gkGWlzeOfos6",
        "colab_type": "code",
        "colab": {}
      },
      "source": [
        "BATCH_SIZE = 32\n",
        "all_batched = all_dataset.padded_batch(BATCH_SIZE,\n",
        "                                       padded_shapes=((3, None), ()),\n",
        "                                       padding_values=(0, 0))"
      ],
      "execution_count": null,
      "outputs": []
    },
    {
      "cell_type": "code",
      "metadata": {
        "id": "5aA7it--hHl4",
        "colab_type": "code",
        "colab": {}
      },
      "source": [
        "NB_BATCHES = math.ceil(len(sorted_all) / BATCH_SIZE)\n",
        "NB_BATCHES_TEST = NB_BATCHES // 10\n",
        "all_batched.shuffle(NB_BATCHES)\n",
        "test_dataset = all_batched.take(NB_BATCHES_TEST)\n",
        "train_dataset = all_batched.skip(NB_BATCHES_TEST)"
      ],
      "execution_count": null,
      "outputs": []
    },
    {
      "cell_type": "code",
      "metadata": {
        "id": "X4QCPok7aEM_",
        "colab_type": "code",
        "colab": {
          "base_uri": "https://localhost:8080/",
          "height": 1000
        },
        "outputId": "44d6e2b9-8688-42ea-92c3-07692e03bb61"
      },
      "source": [
        "next(iter(train_dataset))"
      ],
      "execution_count": null,
      "outputs": [
        {
          "output_type": "execute_result",
          "data": {
            "text/plain": [
              "(<tf.Tensor: shape=(32, 3, 10), dtype=int32, numpy=\n",
              " array([[[  101,  2748,  2926,  1996,  5061,  2028, 10140,   999,   999,\n",
              "            102],\n",
              "         [    1,     1,     1,     1,     1,     1,     1,     1,     1,\n",
              "              1],\n",
              "         [    0,     0,     0,     0,     0,     0,     0,     0,     0,\n",
              "              0]],\n",
              " \n",
              "        [[  101, 12098,  5603,  1012,  2919,  6735,  1012, 14480,  2897,\n",
              "            102],\n",
              "         [    1,     1,     1,     1,     1,     1,     1,     1,     1,\n",
              "              1],\n",
              "         [    0,     0,     0,     0,     0,     0,     0,     0,     0,\n",
              "              0]],\n",
              " \n",
              "        [[  101,  4954,  4502, 18447,  9260, 27762,  3714,  1999, 18546,\n",
              "            102],\n",
              "         [    1,     1,     1,     1,     1,     1,     1,     1,     1,\n",
              "              1],\n",
              "         [    0,     0,     0,     0,     0,     0,     0,     0,     0,\n",
              "              0]],\n",
              " \n",
              "        [[  101,  2034,  1012,  1012,  1012,  2197,  1045,  3246,  2061,\n",
              "            102],\n",
              "         [    1,     1,     1,     1,     1,     1,     1,     1,     1,\n",
              "              1],\n",
              "         [    0,     0,     0,     0,     0,     0,     0,     0,     0,\n",
              "              0]],\n",
              " \n",
              "        [[  101,  2748,  2057,  6069,  3046,  2000,  2272, 27046,  4465,\n",
              "            102],\n",
              "         [    1,     1,     1,     1,     1,     1,     1,     1,     1,\n",
              "              1],\n",
              "         [    0,     0,     0,     0,     0,     0,     0,     0,     0,\n",
              "              0]],\n",
              " \n",
              "        [[  101,  3582, 27439,  4710,  4638,  2009,  4283, 18712,   999,\n",
              "            102],\n",
              "         [    1,     1,     1,     1,     1,     1,     1,     1,     1,\n",
              "              1],\n",
              "         [    0,     0,     0,     0,     0,     0,     0,     0,     0,\n",
              "              0]],\n",
              " \n",
              "        [[  101, 22795,  2011,  3899, 17033,  2227,  1012,  2025,  3407,\n",
              "            102],\n",
              "         [    1,     1,     1,     1,     1,     1,     1,     1,     1,\n",
              "              1],\n",
              "         [    0,     0,     0,     0,     0,     0,     0,     0,     0,\n",
              "              0]],\n",
              " \n",
              "        [[  101,  2031,  1037,  4569,  5607,  2007,  3889,  1051,   999,\n",
              "            102],\n",
              "         [    1,     1,     1,     1,     1,     1,     1,     1,     1,\n",
              "              1],\n",
              "         [    0,     0,     0,     0,     0,     0,     0,     0,     0,\n",
              "              0]],\n",
              " \n",
              "        [[  101,  1045,  2031,  4568,  2919,  2606,  3649,  1996,  4633,\n",
              "            102],\n",
              "         [    1,     1,     1,     1,     1,     1,     1,     1,     1,\n",
              "              1],\n",
              "         [    0,     0,     0,     0,     0,     0,     0,     0,     0,\n",
              "              0]],\n",
              " \n",
              "        [[  101,  2053,  3849,  2027,  1005,  2310,  2766,  1996, 13354,\n",
              "            102],\n",
              "         [    1,     1,     1,     1,     1,     1,     1,     1,     1,\n",
              "              1],\n",
              "         [    0,     0,     0,     0,     0,     0,     0,     0,     0,\n",
              "              0]],\n",
              " \n",
              "        [[  101,  2145,  2025,  6427,  1045,  2066,  2023,  2047,  3105,\n",
              "            102],\n",
              "         [    1,     1,     1,     1,     1,     1,     1,     1,     1,\n",
              "              1],\n",
              "         [    0,     0,     0,     0,     0,     0,     0,     0,     0,\n",
              "              0]],\n",
              " \n",
              "        [[  101,  2003,  2200, 11471,  1998,  4122,  1037,  2047,  3105,\n",
              "            102],\n",
              "         [    1,     1,     1,     1,     1,     1,     1,     1,     1,\n",
              "              1],\n",
              "         [    0,     0,     0,     0,     0,     0,     0,     0,     0,\n",
              "              0]],\n",
              " \n",
              "        [[  101,  1045,  2572,  2183,  2000,  3637,  2061,  2204,  3892,\n",
              "            102],\n",
              "         [    1,     1,     1,     1,     1,     1,     1,     1,     1,\n",
              "              1],\n",
              "         [    0,     0,     0,     0,     0,     0,     0,     0,     0,\n",
              "              0]],\n",
              " \n",
              "        [[  101,  2033,  4402,  2129,  2106,  1996,  3898,  8579,  1029,\n",
              "            102],\n",
              "         [    1,     1,     1,     1,     1,     1,     1,     1,     1,\n",
              "              1],\n",
              "         [    0,     0,     0,     0,     0,     0,     0,     0,     0,\n",
              "              0]],\n",
              " \n",
              "        [[  101,  5621,  1012,  3071,  2003,  2061,  2589,   999,   999,\n",
              "            102],\n",
              "         [    1,     1,     1,     1,     1,     1,     1,     1,     1,\n",
              "              1],\n",
              "         [    0,     0,     0,     0,     0,     0,     0,     0,     0,\n",
              "              0]],\n",
              " \n",
              "        [[  101,  1045,  1005,  1049,  3666,  2115,  2265,  2157,  2085,\n",
              "            102],\n",
              "         [    1,     1,     1,     1,     1,     1,     1,     1,     1,\n",
              "              1],\n",
              "         [    0,     0,     0,     0,     0,     0,     0,     0,     0,\n",
              "              0]],\n",
              " \n",
              "        [[  101, 11865,  9468,  2158,  1045, 14071,  2050,  2022,  2188,\n",
              "            102],\n",
              "         [    1,     1,     1,     1,     1,     1,     1,     1,     1,\n",
              "              1],\n",
              "         [    0,     0,     0,     0,     0,     0,     0,     0,     0,\n",
              "              0]],\n",
              " \n",
              "        [[  101, 15854,  2102,   999, 28290,  1045,  2066,  2023,  9476,\n",
              "            102],\n",
              "         [    1,     1,     1,     1,     1,     1,     1,     1,     1,\n",
              "              1],\n",
              "         [    0,     0,     0,     0,     0,     0,     0,     0,     0,\n",
              "              0]],\n",
              " \n",
              "        [[  101,  2204,  1012,  6595,  5697,  4147,  2116, 16717,   999,\n",
              "            102],\n",
              "         [    1,     1,     1,     1,     1,     1,     1,     1,     1,\n",
              "              1],\n",
              "         [    0,     0,     0,     0,     0,     0,     0,     0,     0,\n",
              "              0]],\n",
              " \n",
              "        [[  101,  6373,  1029,  1029,  1029,  1045,  2215,  2000,  2175,\n",
              "            102],\n",
              "         [    1,     1,     1,     1,     1,     1,     1,     1,     1,\n",
              "              1],\n",
              "         [    0,     0,     0,     0,     0,     0,     0,     0,     0,\n",
              "              0]],\n",
              " \n",
              "        [[  101,  2126,  2000, 15358,  2480,  2041,  2006,  2033, 14085,\n",
              "            102],\n",
              "         [    1,     1,     1,     1,     1,     1,     1,     1,     1,\n",
              "              1],\n",
              "         [    0,     0,     0,     0,     0,     0,     0,     0,     0,\n",
              "              0]],\n",
              " \n",
              "        [[  101,  2986,  1056,  5705,  1012,  3201,  2005,  5353,   999,\n",
              "            102],\n",
              "         [    1,     1,     1,     1,     1,     1,     1,     1,     1,\n",
              "              1],\n",
              "         [    0,     0,     0,     0,     0,     0,     0,     0,     0,\n",
              "              0]],\n",
              " \n",
              "        [[  101,  2224,  3793,  1998,  2074,  5587,  1996,  3642,  1999,\n",
              "            102],\n",
              "         [    1,     1,     1,     1,     1,     1,     1,     1,     1,\n",
              "              1],\n",
              "         [    0,     0,     0,     0,     0,     0,     0,     0,     0,\n",
              "              0]],\n",
              " \n",
              "        [[  101,  1998,  2061,  2009,  2038,  5625,  1012,  1012,  1012,\n",
              "            102],\n",
              "         [    1,     1,     1,     1,     1,     1,     1,     1,     1,\n",
              "              1],\n",
              "         [    0,     0,     0,     0,     0,     0,     0,     0,     0,\n",
              "              0]],\n",
              " \n",
              "        [[  101, 18168,  2290,  1012,  4007, 14409,  9241,  2039,  1012,\n",
              "            102],\n",
              "         [    1,     1,     1,     1,     1,     1,     1,     1,     1,\n",
              "              1],\n",
              "         [    0,     0,     0,     0,     0,     0,     0,     0,     0,\n",
              "              0]],\n",
              " \n",
              "        [[  101,  2065,  2464,  2619,  2061,  3492,   999,  2017,   999,\n",
              "            102],\n",
              "         [    1,     1,     1,     1,     1,     1,     1,     1,     1,\n",
              "              1],\n",
              "         [    0,     0,     0,     0,     0,     0,     0,     0,     0,\n",
              "              0]],\n",
              " \n",
              "        [[  101,  2123,  1005,  1056,  2831,  2055,  2033,  2008,  2126,\n",
              "            102],\n",
              "         [    1,     1,     1,     1,     1,     1,     1,     1,     1,\n",
              "              1],\n",
              "         [    0,     0,     0,     0,     0,     0,     0,     0,     0,\n",
              "              0]],\n",
              " \n",
              "        [[  101,  2053,  2053,  2008,  1005,  1055, 10495,  7045,  1012,\n",
              "            102],\n",
              "         [    1,     1,     1,     1,     1,     1,     1,     1,     1,\n",
              "              1],\n",
              "         [    0,     0,     0,     0,     0,     0,     0,     0,     0,\n",
              "              0]],\n",
              " \n",
              "        [[  101, 22320,  2065,  2017,  1005,  2310,  2745,  8292,  2527,\n",
              "            102],\n",
              "         [    1,     1,     1,     1,     1,     1,     1,     1,     1,\n",
              "              1],\n",
              "         [    0,     0,     0,     0,     0,     0,     0,     0,     0,\n",
              "              0]],\n",
              " \n",
              "        [[  101,  2017,  2772,  2125,  2006,  2033,  1045,  3335,  2017,\n",
              "            102],\n",
              "         [    1,     1,     1,     1,     1,     1,     1,     1,     1,\n",
              "              1],\n",
              "         [    0,     0,     0,     0,     0,     0,     0,     0,     0,\n",
              "              0]],\n",
              " \n",
              "        [[  101,  3582,  2033,  2067,  1012,  3531,  4067,  1057,  1012,\n",
              "            102],\n",
              "         [    1,     1,     1,     1,     1,     1,     1,     1,     1,\n",
              "              1],\n",
              "         [    0,     0,     0,     0,     0,     0,     0,     0,     0,\n",
              "              0]],\n",
              " \n",
              "        [[  101, 27493,  2015,  2053,  8376,  4757,  4757,   999,   999,\n",
              "            102],\n",
              "         [    1,     1,     1,     1,     1,     1,     1,     1,     1,\n",
              "              1],\n",
              "         [    0,     0,     0,     0,     0,     0,     0,     0,     0,\n",
              "              0]]], dtype=int32)>, <tf.Tensor: shape=(32,), dtype=int32, numpy=\n",
              " array([1, 0, 0, 1, 1, 1, 0, 1, 1, 0, 0, 0, 1, 0, 1, 1, 0, 1, 1, 0, 0, 1,\n",
              "        1, 0, 0, 1, 0, 0, 1, 0, 1, 1], dtype=int32)>)"
            ]
          },
          "metadata": {
            "tags": []
          },
          "execution_count": 18
        }
      ]
    },
    {
      "cell_type": "markdown",
      "metadata": {
        "id": "N2pxAPFxGe8r",
        "colab_type": "text"
      },
      "source": [
        "# Stage 3: Model building"
      ]
    },
    {
      "cell_type": "code",
      "metadata": {
        "id": "L6DD3k3qPLDQ",
        "colab_type": "code",
        "colab": {}
      },
      "source": [
        "class DCNNBERTEmbedding(tf.keras.Model):\n",
        "    \n",
        "    def __init__(self,\n",
        "                 nb_filters=50,\n",
        "                 FFN_units=512,\n",
        "                 nb_classes=2,\n",
        "                 dropout_rate=0.1,\n",
        "                 name=\"dcnn\"):\n",
        "        super(DCNNBERTEmbedding, self).__init__(name=name)\n",
        "        \n",
        "        self.bert_layer = hub.KerasLayer(\n",
        "            \"https://tfhub.dev/tensorflow/bert_en_uncased_L-12_H-768_A-12/1\",\n",
        "            trainable=False)\n",
        "\n",
        "        self.bigram = layers.Conv1D(filters=nb_filters,\n",
        "                                    kernel_size=2,\n",
        "                                    padding=\"valid\",\n",
        "                                    activation=\"relu\")\n",
        "        self.trigram = layers.Conv1D(filters=nb_filters,\n",
        "                                     kernel_size=3,\n",
        "                                     padding=\"valid\",\n",
        "                                     activation=\"relu\")\n",
        "        self.fourgram = layers.Conv1D(filters=nb_filters,\n",
        "                                      kernel_size=4,\n",
        "                                      padding=\"valid\",\n",
        "                                      activation=\"relu\")\n",
        "        self.pool = layers.GlobalMaxPool1D()\n",
        "        self.dense_1 = layers.Dense(units=FFN_units, activation=\"relu\")\n",
        "        self.dropout = layers.Dropout(rate=dropout_rate)\n",
        "        if nb_classes == 2:\n",
        "            self.last_dense = layers.Dense(units=1,\n",
        "                                           activation=\"sigmoid\")\n",
        "        else:\n",
        "            self.last_dense = layers.Dense(units=nb_classes,\n",
        "                                           activation=\"softmax\")\n",
        "    \n",
        "    def embed_with_bert(self, all_tokens):\n",
        "        _, embs = self.bert_layer([all_tokens[:, 0, :],\n",
        "                                   all_tokens[:, 1, :],\n",
        "                                   all_tokens[:, 2, :]])\n",
        "        return embs\n",
        "\n",
        "    def call(self, inputs, training):\n",
        "        x = self.embed_with_bert(inputs)\n",
        "\n",
        "        x_1 = self.bigram(x)\n",
        "        x_1 = self.pool(x_1)\n",
        "        x_2 = self.trigram(x)\n",
        "        x_2 = self.pool(x_2)\n",
        "        x_3 = self.fourgram(x)\n",
        "        x_3 = self.pool(x_3)\n",
        "        \n",
        "        merged = tf.concat([x_1, x_2, x_3], axis=-1) # (batch_size, 3 * nb_filters)\n",
        "        merged = self.dense_1(merged)\n",
        "        merged = self.dropout(merged, training)\n",
        "        output = self.last_dense(merged)\n",
        "        \n",
        "        return output"
      ],
      "execution_count": null,
      "outputs": []
    },
    {
      "cell_type": "markdown",
      "metadata": {
        "id": "hsWpzQz2IQvJ",
        "colab_type": "text"
      },
      "source": [
        "# Stage 4: Training"
      ]
    },
    {
      "cell_type": "code",
      "metadata": {
        "id": "lhfUFvWEPOIf",
        "colab_type": "code",
        "colab": {}
      },
      "source": [
        "NB_FILTERS = 100\n",
        "FFN_UNITS = 256\n",
        "NB_CLASSES = 2\n",
        "\n",
        "DROPOUT_RATE = 0.2\n",
        "\n",
        "BATCH_SIZE = 32\n",
        "NB_EPOCHS = 5"
      ],
      "execution_count": null,
      "outputs": []
    },
    {
      "cell_type": "code",
      "metadata": {
        "id": "5HPbZ72KPPnX",
        "colab_type": "code",
        "colab": {}
      },
      "source": [
        "Dcnn = DCNNBERTEmbedding(nb_filters=NB_FILTERS,\n",
        "                         FFN_units=FFN_UNITS,\n",
        "                         nb_classes=NB_CLASSES,\n",
        "                         dropout_rate=DROPOUT_RATE)"
      ],
      "execution_count": null,
      "outputs": []
    },
    {
      "cell_type": "code",
      "metadata": {
        "id": "JpHDseF0QLl3",
        "colab_type": "code",
        "colab": {}
      },
      "source": [
        "if NB_CLASSES == 2:\n",
        "    Dcnn.compile(loss=\"binary_crossentropy\",\n",
        "                 optimizer=\"adam\",\n",
        "                 metrics=[\"accuracy\"])\n",
        "else:\n",
        "    Dcnn.compile(loss=\"sparse_categorical_crossentropy\",\n",
        "                 optimizer=\"adam\",\n",
        "                 metrics=[\"sparse_categorical_accuracy\"])"
      ],
      "execution_count": null,
      "outputs": []
    },
    {
      "cell_type": "code",
      "metadata": {
        "id": "K1hdT_JT2Rfi",
        "colab_type": "code",
        "colab": {
          "base_uri": "https://localhost:8080/",
          "height": 34
        },
        "outputId": "1dea9a59-b1dd-43e4-b50a-00122225ee28"
      },
      "source": [
        "checkpoint_path = \"./drive/My Drive/projects/BERT/ckpt_bert_embedding/\"\n",
        "\n",
        "ckpt = tf.train.Checkpoint(Dcnn=Dcnn)\n",
        "\n",
        "ckpt_manager = tf.train.CheckpointManager(ckpt, checkpoint_path, max_to_keep=1)\n",
        "\n",
        "if ckpt_manager.latest_checkpoint:\n",
        "    ckpt.restore(ckpt_manager.latest_checkpoint)\n",
        "    print(\"Latest checkpoint restored!!\")"
      ],
      "execution_count": null,
      "outputs": [
        {
          "output_type": "stream",
          "text": [
            "Latest checkpoint restored!!\n"
          ],
          "name": "stdout"
        }
      ]
    },
    {
      "cell_type": "code",
      "metadata": {
        "id": "e8LHztku2cjl",
        "colab_type": "code",
        "colab": {}
      },
      "source": [
        "class MyCustomCallback(tf.keras.callbacks.Callback):\n",
        "\n",
        "    def on_epoch_end(self, epoch, logs=None):\n",
        "        ckpt_manager.save()\n",
        "        print(\"Checkpoint saved at {}.\".format(checkpoint_path))"
      ],
      "execution_count": null,
      "outputs": []
    },
    {
      "cell_type": "markdown",
      "metadata": {
        "id": "V0C5lNxFTMrA",
        "colab_type": "text"
      },
      "source": [
        "## Result"
      ]
    },
    {
      "cell_type": "code",
      "metadata": {
        "id": "WrT8oWZzQNmW",
        "colab_type": "code",
        "colab": {
          "base_uri": "https://localhost:8080/",
          "height": 411
        },
        "outputId": "3f196a33-cbe1-4e71-e2ef-59fe1ea0d4dc"
      },
      "source": [
        "Dcnn.fit(train_dataset,\n",
        "         epochs=NB_EPOCHS,\n",
        "         callbacks=[MyCustomCallback()])"
      ],
      "execution_count": null,
      "outputs": [
        {
          "output_type": "stream",
          "text": [
            "(None, 300)\n",
            "(None, 1)\n",
            "Epoch 1/5\n",
            "(None, 300)\n",
            "(None, 1)\n",
            "(None, 300)\n",
            "(None, 1)\n",
            "  40623/Unknown - 1642s 40ms/step - loss: 0.3970 - accuracy: 0.8218Checkpoint saved at ./drive/My Drive/projects/BERT/ckpt_bert_embedding/.\n",
            "40623/40623 [==============================] - 1644s 40ms/step - loss: 0.3970 - accuracy: 0.8218\n",
            "Epoch 2/5\n",
            "40622/40623 [============================>.] - ETA: 0s - loss: 0.3742 - accuracy: 0.8340Checkpoint saved at ./drive/My Drive/projects/BERT/ckpt_bert_embedding/.\n",
            "40623/40623 [==============================] - 1596s 39ms/step - loss: 0.3742 - accuracy: 0.8340\n",
            "Epoch 3/5\n",
            "40622/40623 [============================>.] - ETA: 0s - loss: 0.3641 - accuracy: 0.8391Checkpoint saved at ./drive/My Drive/projects/BERT/ckpt_bert_embedding/.\n",
            "40623/40623 [==============================] - 1577s 39ms/step - loss: 0.3641 - accuracy: 0.8391\n",
            "Epoch 4/5\n",
            "40622/40623 [============================>.] - ETA: 0s - loss: 0.3566 - accuracy: 0.8431Checkpoint saved at ./drive/My Drive/projects/BERT/ckpt_bert_embedding/.\n",
            "40623/40623 [==============================] - 1564s 39ms/step - loss: 0.3566 - accuracy: 0.8431\n",
            "Epoch 5/5\n",
            "40622/40623 [============================>.] - ETA: 0s - loss: 0.3505 - accuracy: 0.8459Checkpoint saved at ./drive/My Drive/projects/BERT/ckpt_bert_embedding/.\n",
            "40623/40623 [==============================] - 1560s 38ms/step - loss: 0.3505 - accuracy: 0.8459\n"
          ],
          "name": "stdout"
        },
        {
          "output_type": "execute_result",
          "data": {
            "text/plain": [
              "<tensorflow.python.keras.callbacks.History at 0x7f889c32cb70>"
            ]
          },
          "metadata": {
            "tags": []
          },
          "execution_count": 24
        }
      ]
    },
    {
      "cell_type": "markdown",
      "metadata": {
        "id": "MAb_ijA5Idmz",
        "colab_type": "text"
      },
      "source": [
        "# Stage 5: Evaluation"
      ]
    },
    {
      "cell_type": "code",
      "metadata": {
        "id": "gQN-Y99WIf6m",
        "colab_type": "code",
        "colab": {
          "base_uri": "https://localhost:8080/",
          "height": 51
        },
        "outputId": "8ff576c9-59ea-49fb-f186-279fa8c8e299"
      },
      "source": [
        "results = Dcnn.evaluate(test_dataset)\n",
        "print(results)"
      ],
      "execution_count": null,
      "outputs": [
        {
          "output_type": "stream",
          "text": [
            "4513/4513 [==============================] - 255s 56ms/step - loss: 0.3457 - accuracy: 0.8574\n",
            "[0.34568697214126587, 0.8574050068855286]\n"
          ],
          "name": "stdout"
        }
      ]
    },
    {
      "cell_type": "code",
      "metadata": {
        "id": "Rj98dgxnmhak",
        "colab_type": "code",
        "colab": {}
      },
      "source": [
        "def get_prediction(sentence):\n",
        "    tokens = encode_sentence(sentence)\n",
        "\n",
        "    input_ids = get_ids(tokens)\n",
        "    input_mask = get_mask(tokens)\n",
        "    segment_ids = get_segments(tokens)\n",
        "\n",
        "    inputs = tf.stack(\n",
        "        [tf.cast(input_ids, dtype=tf.int32),\n",
        "         tf.cast(input_mask, dtype=tf.int32),\n",
        "         tf.cast(segment_ids, dtype=tf.int32)],\n",
        "         axis=0)\n",
        "    inputs = tf.expand_dims(inputs, 0) # simulates a batch\n",
        "\n",
        "    output = Dcnn(inputs, training=False)\n",
        "\n",
        "    sentiment = math.floor(output*2)\n",
        "\n",
        "    if sentiment == 0:\n",
        "        print(\"Output of the model: {}\\nPredicted sentiment: negative\".format(\n",
        "            output))\n",
        "    elif sentiment == 1:\n",
        "        print(\"Output of the model: {}\\nPredicted sentiment: positive\".format(\n",
        "            output))"
      ],
      "execution_count": null,
      "outputs": []
    },
    {
      "cell_type": "code",
      "metadata": {
        "id": "J9jC8UnJgOjS",
        "colab_type": "code",
        "colab": {
          "base_uri": "https://localhost:8080/",
          "height": 51
        },
        "outputId": "808b061b-e80e-4f3c-ecda-3dba81606e1e"
      },
      "source": [
        "get_prediction(\"This actor is a deception.\")"
      ],
      "execution_count": null,
      "outputs": [
        {
          "output_type": "stream",
          "text": [
            "Output of the model: [[0.3177291]]\n",
            "Predicted sentiment: negative\n"
          ],
          "name": "stdout"
        }
      ]
    },
    {
      "cell_type": "code",
      "metadata": {
        "id": "0aMrBVRbeM29",
        "colab_type": "code",
        "colab": {}
      },
      "source": [
        ""
      ],
      "execution_count": null,
      "outputs": []
    }
  ]
}